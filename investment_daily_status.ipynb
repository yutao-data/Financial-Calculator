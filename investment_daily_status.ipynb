{
  "nbformat": 4,
  "nbformat_minor": 0,
  "metadata": {
    "colab": {
      "provenance": [],
      "authorship_tag": "ABX9TyPivxch86k9izXa1Gf8q+xg",
      "include_colab_link": true
    },
    "kernelspec": {
      "name": "python3",
      "display_name": "Python 3"
    },
    "language_info": {
      "name": "python"
    }
  },
  "cells": [
    {
      "cell_type": "markdown",
      "metadata": {
        "id": "view-in-github",
        "colab_type": "text"
      },
      "source": [
        "<a href=\"https://colab.research.google.com/github/yutao-data/Financial-Calculator/blob/main/investment_daily_status.ipynb\" target=\"_parent\"><img src=\"https://colab.research.google.com/assets/colab-badge.svg\" alt=\"Open In Colab\"/></a>"
      ]
    },
    {
      "cell_type": "code",
      "execution_count": 1,
      "metadata": {
        "colab": {
          "base_uri": "https://localhost:8080/"
        },
        "id": "XnbKuyey2qeW",
        "outputId": "845c8d70-a060-4854-ef1a-6c6511e66dcb"
      },
      "outputs": [
        {
          "output_type": "stream",
          "name": "stdout",
          "text": [
            "Collecting tushare\n",
            "  Downloading tushare-1.4.7-py3-none-any.whl.metadata (2.8 kB)\n",
            "Requirement already satisfied: pandas in /usr/local/lib/python3.10/dist-packages (from tushare) (2.1.4)\n",
            "Requirement already satisfied: requests in /usr/local/lib/python3.10/dist-packages (from tushare) (2.31.0)\n",
            "Requirement already satisfied: lxml in /usr/local/lib/python3.10/dist-packages (from tushare) (4.9.4)\n",
            "Collecting simplejson (from tushare)\n",
            "  Downloading simplejson-3.19.2-cp310-cp310-manylinux_2_5_x86_64.manylinux1_x86_64.manylinux_2_17_x86_64.manylinux2014_x86_64.whl.metadata (3.1 kB)\n",
            "Collecting bs4 (from tushare)\n",
            "  Downloading bs4-0.0.2-py2.py3-none-any.whl.metadata (411 bytes)\n",
            "Collecting websocket-client==0.57.0 (from tushare)\n",
            "  Downloading websocket_client-0.57.0-py2.py3-none-any.whl.metadata (7.5 kB)\n",
            "Requirement already satisfied: tqdm in /usr/local/lib/python3.10/dist-packages (from tushare) (4.66.4)\n",
            "Requirement already satisfied: six in /usr/local/lib/python3.10/dist-packages (from websocket-client==0.57.0->tushare) (1.16.0)\n",
            "Requirement already satisfied: beautifulsoup4 in /usr/local/lib/python3.10/dist-packages (from bs4->tushare) (4.12.3)\n",
            "Requirement already satisfied: numpy<2,>=1.22.4 in /usr/local/lib/python3.10/dist-packages (from pandas->tushare) (1.26.4)\n",
            "Requirement already satisfied: python-dateutil>=2.8.2 in /usr/local/lib/python3.10/dist-packages (from pandas->tushare) (2.8.2)\n",
            "Requirement already satisfied: pytz>=2020.1 in /usr/local/lib/python3.10/dist-packages (from pandas->tushare) (2024.1)\n",
            "Requirement already satisfied: tzdata>=2022.1 in /usr/local/lib/python3.10/dist-packages (from pandas->tushare) (2024.1)\n",
            "Requirement already satisfied: charset-normalizer<4,>=2 in /usr/local/lib/python3.10/dist-packages (from requests->tushare) (3.3.2)\n",
            "Requirement already satisfied: idna<4,>=2.5 in /usr/local/lib/python3.10/dist-packages (from requests->tushare) (3.7)\n",
            "Requirement already satisfied: urllib3<3,>=1.21.1 in /usr/local/lib/python3.10/dist-packages (from requests->tushare) (2.0.7)\n",
            "Requirement already satisfied: certifi>=2017.4.17 in /usr/local/lib/python3.10/dist-packages (from requests->tushare) (2024.7.4)\n",
            "Requirement already satisfied: soupsieve>1.2 in /usr/local/lib/python3.10/dist-packages (from beautifulsoup4->bs4->tushare) (2.5)\n",
            "Downloading tushare-1.4.7-py3-none-any.whl (140 kB)\n",
            "\u001b[2K   \u001b[90m━━━━━━━━━━━━━━━━━━━━━━━━━━━━━━━━━━━━━━━━\u001b[0m \u001b[32m140.8/140.8 kB\u001b[0m \u001b[31m3.1 MB/s\u001b[0m eta \u001b[36m0:00:00\u001b[0m\n",
            "\u001b[?25hDownloading websocket_client-0.57.0-py2.py3-none-any.whl (200 kB)\n",
            "\u001b[2K   \u001b[90m━━━━━━━━━━━━━━━━━━━━━━━━━━━━━━━━━━━━━━━━\u001b[0m \u001b[32m200.9/200.9 kB\u001b[0m \u001b[31m8.1 MB/s\u001b[0m eta \u001b[36m0:00:00\u001b[0m\n",
            "\u001b[?25hDownloading bs4-0.0.2-py2.py3-none-any.whl (1.2 kB)\n",
            "Downloading simplejson-3.19.2-cp310-cp310-manylinux_2_5_x86_64.manylinux1_x86_64.manylinux_2_17_x86_64.manylinux2014_x86_64.whl (137 kB)\n",
            "\u001b[2K   \u001b[90m━━━━━━━━━━━━━━━━━━━━━━━━━━━━━━━━━━━━━━━━\u001b[0m \u001b[32m137.9/137.9 kB\u001b[0m \u001b[31m6.5 MB/s\u001b[0m eta \u001b[36m0:00:00\u001b[0m\n",
            "\u001b[?25hInstalling collected packages: websocket-client, simplejson, bs4, tushare\n",
            "  Attempting uninstall: websocket-client\n",
            "    Found existing installation: websocket-client 1.8.0\n",
            "    Uninstalling websocket-client-1.8.0:\n",
            "      Successfully uninstalled websocket-client-1.8.0\n",
            "Successfully installed bs4-0.0.2 simplejson-3.19.2 tushare-1.4.7 websocket-client-0.57.0\n",
            "Mounted at /content/drive\n"
          ]
        }
      ],
      "source": [
        "!pip install tushare\n",
        "from google.colab import drive\n",
        "drive.mount('/content/drive')"
      ]
    },
    {
      "cell_type": "code",
      "source": [
        "import pandas as pd\n",
        "import matplotlib.pyplot as plt\n",
        "import tushare as ts\n",
        "import os\n",
        "from datetime import datetime\n",
        "import time\n",
        "\n",
        "# Initialize the Tushare API\n",
        "pro = ts.pro_api('xxxxx')\n",
        "\n",
        "drive_path = '/content/drive/My Drive/tushare_data/daily_status'\n",
        "if not os.path.exists(drive_path):\n",
        "    os.makedirs(drive_path)"
      ],
      "metadata": {
        "id": "5u_4UX302vmj"
      },
      "execution_count": 3,
      "outputs": []
    },
    {
      "cell_type": "code",
      "source": [
        "today = datetime.today().strftime('%Y%m%d')\n",
        "\n",
        "index_list = ['000001.SH', '399001.SZ']\n",
        "index_data_1 = pro.index_daily(ts_code=index_list[0], start_date=today, end_date=today)\n",
        "index_data_2 = pro.index_daily(ts_code=index_list[1], start_date=today, end_date=today)\n",
        "index_data = pd.concat([index_data_1, index_data_2])\n",
        "\n",
        "index_data_path = os.path.join(drive_path, f'index_data_{today}.csv')\n",
        "index_data.to_csv(index_data_path, index=False)\n",
        "\n",
        "stock_data = pro.daily(trade_date=today)\n",
        "\n",
        "stock_data_path = os.path.join(drive_path, f'stock_data_{today}.csv')\n",
        "stock_data.to_csv(stock_data_path, index=False)\n",
        "\n",
        "total_volume = stock_data['vol'].sum() / 1e8  # 转换为亿股\n",
        "total_turnover = stock_data['amount'].sum() / 1e5  # 转换为亿元\n",
        "\n",
        "rise_count = (stock_data['pct_chg'] > 0).sum()  # 上涨家数\n",
        "fall_count = (stock_data['pct_chg'] < 0).sum()  # 下跌家数\n",
        "\n",
        "moneyflow_hsgt = pro.moneyflow_hsgt(trade_date=today)\n",
        "moneyflow_hsgt_path = os.path.join(drive_path, f'moneyflow_hsgt_{today}.csv')\n",
        "moneyflow_hsgt.to_csv(moneyflow_hsgt_path, index=False)\n",
        "\n",
        "northbound_inflow = moneyflow_hsgt['north_money'].sum() / 1e2  # 转换为亿元\n",
        "southbound_inflow = moneyflow_hsgt['south_money'].sum() / 1e2  # 转换为亿元\n",
        "\n",
        "daily_basic = pro.daily_basic(trade_date=today)\n",
        "\n",
        "daily_basic_path = os.path.join(drive_path, f'daily_basic_{today}.csv')\n",
        "daily_basic.to_csv(daily_basic_path, index=False)\n",
        "\n",
        "total_market_cap = daily_basic['total_mv'].sum() / 1e4  # 转换为亿元\n",
        "total_pe = daily_basic['pe'].mean()\n",
        "\n",
        "# print(f\"今日两市成交额：{total_turnover:.2f} 亿元\")\n",
        "# print(f\"今日上涨家数：{rise_count}\")\n",
        "# print(f\"今日下跌家数：{fall_count}\")\n",
        "# print(f\"今日北向资金净流入：{northbound_inflow:.2f} 亿元\")\n",
        "# print(f\"今日南向资金净流入：{southbound_inflow:.2f} 亿元\")\n",
        "# print(f\"今日市场平均市盈率：{total_pe:.2f}\")\n",
        "\n",
        "print(f\"今日两市成交额：{total_turnover:.2f} 亿元, 上涨：{rise_count}家, 待涨：{fall_count}家, 北向资金净流入：{northbound_inflow:.2f} 亿元, 内资净流入：{southbound_inflow:.2f} 亿元, 市场平均市盈率：{total_pe:.2f}。\")"
      ],
      "metadata": {
        "colab": {
          "base_uri": "https://localhost:8080/"
        },
        "id": "V8gY9Vo32vo7",
        "outputId": "a8945f56-1256-43b7-ceb9-057e0b7d8e55"
      },
      "execution_count": 27,
      "outputs": [
        {
          "output_type": "stream",
          "name": "stdout",
          "text": [
            "今日两市成交额：5896.99 亿元, 上涨：2341家, 待涨：2741家, 北向资金净流入：-49.85 亿元, 内资净流入：7.45 亿元, 市场平均市盈率：58.31。\n"
          ]
        }
      ]
    },
    {
      "cell_type": "code",
      "source": [],
      "metadata": {
        "id": "Pgh7dvsY2vrX"
      },
      "execution_count": null,
      "outputs": []
    },
    {
      "cell_type": "code",
      "source": [],
      "metadata": {
        "id": "TCSKceEW2vtz"
      },
      "execution_count": null,
      "outputs": []
    },
    {
      "cell_type": "code",
      "source": [],
      "metadata": {
        "id": "DU3Alys02vxT"
      },
      "execution_count": null,
      "outputs": []
    }
  ]
}