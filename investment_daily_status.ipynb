{
  "nbformat": 4,
  "nbformat_minor": 0,
  "metadata": {
    "colab": {
      "provenance": [],
      "authorship_tag": "ABX9TyPupvuPRhDY0jvVnOGmRybU",
      "include_colab_link": true
    },
    "kernelspec": {
      "name": "python3",
      "display_name": "Python 3"
    },
    "language_info": {
      "name": "python"
    }
  },
  "cells": [
    {
      "cell_type": "markdown",
      "metadata": {
        "id": "view-in-github",
        "colab_type": "text"
      },
      "source": [
        "<a href=\"https://colab.research.google.com/github/yutao-data/Financial-Calculator/blob/main/investment_daily_status.ipynb\" target=\"_parent\"><img src=\"https://colab.research.google.com/assets/colab-badge.svg\" alt=\"Open In Colab\"/></a>"
      ]
    },
    {
      "cell_type": "code",
      "execution_count": 13,
      "metadata": {
        "colab": {
          "base_uri": "https://localhost:8080/"
        },
        "id": "XnbKuyey2qeW",
        "outputId": "60681b30-1013-412c-f9b2-9a80a1eaa95f"
      },
      "outputs": [
        {
          "output_type": "stream",
          "name": "stdout",
          "text": [
            "Requirement already satisfied: tushare in /usr/local/lib/python3.10/dist-packages (1.4.7)\n",
            "Requirement already satisfied: pandas in /usr/local/lib/python3.10/dist-packages (from tushare) (2.1.4)\n",
            "Requirement already satisfied: requests in /usr/local/lib/python3.10/dist-packages (from tushare) (2.31.0)\n",
            "Requirement already satisfied: lxml in /usr/local/lib/python3.10/dist-packages (from tushare) (4.9.4)\n",
            "Requirement already satisfied: simplejson in /usr/local/lib/python3.10/dist-packages (from tushare) (3.19.2)\n",
            "Requirement already satisfied: bs4 in /usr/local/lib/python3.10/dist-packages (from tushare) (0.0.2)\n",
            "Requirement already satisfied: websocket-client==0.57.0 in /usr/local/lib/python3.10/dist-packages (from tushare) (0.57.0)\n",
            "Requirement already satisfied: tqdm in /usr/local/lib/python3.10/dist-packages (from tushare) (4.66.4)\n",
            "Requirement already satisfied: six in /usr/local/lib/python3.10/dist-packages (from websocket-client==0.57.0->tushare) (1.16.0)\n",
            "Requirement already satisfied: beautifulsoup4 in /usr/local/lib/python3.10/dist-packages (from bs4->tushare) (4.12.3)\n",
            "Requirement already satisfied: numpy<2,>=1.22.4 in /usr/local/lib/python3.10/dist-packages (from pandas->tushare) (1.26.4)\n",
            "Requirement already satisfied: python-dateutil>=2.8.2 in /usr/local/lib/python3.10/dist-packages (from pandas->tushare) (2.8.2)\n",
            "Requirement already satisfied: pytz>=2020.1 in /usr/local/lib/python3.10/dist-packages (from pandas->tushare) (2024.1)\n",
            "Requirement already satisfied: tzdata>=2022.1 in /usr/local/lib/python3.10/dist-packages (from pandas->tushare) (2024.1)\n",
            "Requirement already satisfied: charset-normalizer<4,>=2 in /usr/local/lib/python3.10/dist-packages (from requests->tushare) (3.3.2)\n",
            "Requirement already satisfied: idna<4,>=2.5 in /usr/local/lib/python3.10/dist-packages (from requests->tushare) (3.7)\n",
            "Requirement already satisfied: urllib3<3,>=1.21.1 in /usr/local/lib/python3.10/dist-packages (from requests->tushare) (2.0.7)\n",
            "Requirement already satisfied: certifi>=2017.4.17 in /usr/local/lib/python3.10/dist-packages (from requests->tushare) (2024.7.4)\n",
            "Requirement already satisfied: soupsieve>1.2 in /usr/local/lib/python3.10/dist-packages (from beautifulsoup4->bs4->tushare) (2.5)\n",
            "Requirement already satisfied: yfinance in /usr/local/lib/python3.10/dist-packages (0.2.41)\n",
            "Requirement already satisfied: pandas>=1.3.0 in /usr/local/lib/python3.10/dist-packages (from yfinance) (2.1.4)\n",
            "Requirement already satisfied: numpy>=1.16.5 in /usr/local/lib/python3.10/dist-packages (from yfinance) (1.26.4)\n",
            "Requirement already satisfied: requests>=2.31 in /usr/local/lib/python3.10/dist-packages (from yfinance) (2.31.0)\n",
            "Requirement already satisfied: multitasking>=0.0.7 in /usr/local/lib/python3.10/dist-packages (from yfinance) (0.0.11)\n",
            "Requirement already satisfied: lxml>=4.9.1 in /usr/local/lib/python3.10/dist-packages (from yfinance) (4.9.4)\n",
            "Requirement already satisfied: platformdirs>=2.0.0 in /usr/local/lib/python3.10/dist-packages (from yfinance) (4.2.2)\n",
            "Requirement already satisfied: pytz>=2022.5 in /usr/local/lib/python3.10/dist-packages (from yfinance) (2024.1)\n",
            "Requirement already satisfied: frozendict>=2.3.4 in /usr/local/lib/python3.10/dist-packages (from yfinance) (2.4.4)\n",
            "Requirement already satisfied: peewee>=3.16.2 in /usr/local/lib/python3.10/dist-packages (from yfinance) (3.17.6)\n",
            "Requirement already satisfied: beautifulsoup4>=4.11.1 in /usr/local/lib/python3.10/dist-packages (from yfinance) (4.12.3)\n",
            "Requirement already satisfied: html5lib>=1.1 in /usr/local/lib/python3.10/dist-packages (from yfinance) (1.1)\n",
            "Requirement already satisfied: soupsieve>1.2 in /usr/local/lib/python3.10/dist-packages (from beautifulsoup4>=4.11.1->yfinance) (2.5)\n",
            "Requirement already satisfied: six>=1.9 in /usr/local/lib/python3.10/dist-packages (from html5lib>=1.1->yfinance) (1.16.0)\n",
            "Requirement already satisfied: webencodings in /usr/local/lib/python3.10/dist-packages (from html5lib>=1.1->yfinance) (0.5.1)\n",
            "Requirement already satisfied: python-dateutil>=2.8.2 in /usr/local/lib/python3.10/dist-packages (from pandas>=1.3.0->yfinance) (2.8.2)\n",
            "Requirement already satisfied: tzdata>=2022.1 in /usr/local/lib/python3.10/dist-packages (from pandas>=1.3.0->yfinance) (2024.1)\n",
            "Requirement already satisfied: charset-normalizer<4,>=2 in /usr/local/lib/python3.10/dist-packages (from requests>=2.31->yfinance) (3.3.2)\n",
            "Requirement already satisfied: idna<4,>=2.5 in /usr/local/lib/python3.10/dist-packages (from requests>=2.31->yfinance) (3.7)\n",
            "Requirement already satisfied: urllib3<3,>=1.21.1 in /usr/local/lib/python3.10/dist-packages (from requests>=2.31->yfinance) (2.0.7)\n",
            "Requirement already satisfied: certifi>=2017.4.17 in /usr/local/lib/python3.10/dist-packages (from requests>=2.31->yfinance) (2024.7.4)\n",
            "Drive already mounted at /content/drive; to attempt to forcibly remount, call drive.mount(\"/content/drive\", force_remount=True).\n"
          ]
        }
      ],
      "source": [
        "!pip install tushare\n",
        "!pip install yfinance\n",
        "from google.colab import drive\n",
        "drive.mount('/content/drive')"
      ]
    },
    {
      "cell_type": "code",
      "source": [
        "import pandas as pd\n",
        "import matplotlib.pyplot as plt\n",
        "import tushare as ts\n",
        "import os\n",
        "from datetime import datetime, timedelta\n",
        "import time\n",
        "\n",
        "# Initialize the Tushare API\n",
        "api_key_path = '/content/drive/My Drive/tushare_data/api_key.txt'\n",
        "with open(api_key_path, 'r') as file:\n",
        "    api_key = file.readline().strip()\n",
        "pro = ts.pro_api(api_key)"
      ],
      "metadata": {
        "id": "5u_4UX302vmj"
      },
      "execution_count": 3,
      "outputs": []
    },
    {
      "cell_type": "markdown",
      "source": [
        "# 股票市场"
      ],
      "metadata": {
        "id": "Ce_RZD4yBKcV"
      }
    },
    {
      "cell_type": "code",
      "source": [
        "drive_path = '/content/drive/My Drive/tushare_data/status/stock_status'\n",
        "if not os.path.exists(drive_path):\n",
        "    os.makedirs(drive_path)"
      ],
      "metadata": {
        "id": "9xykJIvKBPZS"
      },
      "execution_count": 4,
      "outputs": []
    },
    {
      "cell_type": "code",
      "source": [
        "today = datetime.today().strftime('%Y%m%d')\n",
        "yesterday = (datetime.today() - timedelta(1)).strftime('%Y%m%d')\n",
        "\n",
        "def get_index_pe(index_code, date):\n",
        "    index_data = pro.index_dailybasic(ts_code=index_code, trade_date=date, fields='ts_code,trade_date,pe')\n",
        "    if not index_data.empty:\n",
        "        pe = index_data.iloc[0]['pe']\n",
        "        return pe\n",
        "    return None\n",
        "\n",
        "# 获取上证指数的市盈率\n",
        "sh_pe = get_index_pe('000001.SH', today)\n",
        "sh_pe = f\"{sh_pe:.2f}\" if sh_pe is not None else \"暂无数据\"\n",
        "\n",
        "# 获取创业板指的市盈率\n",
        "cyb_pe = get_index_pe('399006.SZ', today)\n",
        "cyb_pe = f\"{cyb_pe:.2f}\" if cyb_pe is not None else \"暂无数据\"\n",
        "\n",
        "# 获取两市成交数据\n",
        "stock_data_today = pro.daily(trade_date=today)\n",
        "stock_data_yesterday = pro.daily(trade_date=yesterday)\n",
        "\n",
        "total_turnover_today = stock_data_today['amount'].sum() / 1e5  # 转换为亿元\n",
        "total_turnover_yesterday = stock_data_yesterday['amount'].sum() / 1e5  # 转换为亿元\n",
        "turnover_diff = total_turnover_today - total_turnover_yesterday\n",
        "\n",
        "rise_count = (stock_data_today['pct_chg'] > 0).sum()  # 上涨家数\n",
        "fall_count = (stock_data_today['pct_chg'] < 0).sum()  # 下跌家数\n",
        "\n",
        "# 获取沪深港通资金流向数据\n",
        "moneyflow_hsgt_today = pro.moneyflow_hsgt(trade_date=today)\n",
        "moneyflow_hsgt_yesterday = pro.moneyflow_hsgt(trade_date=yesterday)\n",
        "\n",
        "northbound_inflow_today = moneyflow_hsgt_today['north_money'].sum() / 1e2  # 转换为亿元\n",
        "southbound_inflow_today = moneyflow_hsgt_today['south_money'].sum() / 1e2  # 转换为亿元\n",
        "\n",
        "northbound_inflow_yesterday = moneyflow_hsgt_yesterday['north_money'].sum() / 1e2  # 转换为亿元\n",
        "southbound_inflow_yesterday = moneyflow_hsgt_yesterday['south_money'].sum() / 1e2  # 转换为亿元\n",
        "\n",
        "print(f\"今日两市成交额：{total_turnover_today:.2f} 亿元, 较昨日{'增加' if turnover_diff > 0 else '减少'}：{abs(turnover_diff):.2f} 亿元, 上涨：{rise_count}家, 待涨：{fall_count}家, 北向资金净流入：{northbound_inflow_today:.2f} 亿元, 内资净流入：{southbound_inflow_today:.2f} 亿元, 上证指数市盈率：{sh_pe}，创业板指市盈率：{cyb_pe}。\")"
      ],
      "metadata": {
        "colab": {
          "base_uri": "https://localhost:8080/"
        },
        "id": "V8gY9Vo32vo7",
        "outputId": "c22b4e32-38af-474f-a60e-d8377b752fb5"
      },
      "execution_count": 10,
      "outputs": [
        {
          "output_type": "stream",
          "name": "stdout",
          "text": [
            "今日两市成交额：7261.35 亿元, 较昨日减少：603.74 亿元, 上涨：995家, 待涨：4193家, 北向资金净流入：0.00 亿元, 内资净流入：0.00 亿元, 上证指数市盈率：12.81，创业板指市盈率：25.70。\n"
          ]
        }
      ]
    },
    {
      "cell_type": "code",
      "source": [
        "import yfinance as yf\n",
        "from datetime import datetime, timedelta\n",
        "\n",
        "# 定义指数代码\n",
        "indices = {\n",
        "    '标普500': '^GSPC',\n",
        "    '纳斯达克': '^IXIC',\n",
        "    '日经': '^N225',\n",
        "    '恒生': '^HSI'\n",
        "}\n",
        "\n",
        "# 获取每个指数的今日数据\n",
        "def get_index_data():\n",
        "    data = {}\n",
        "\n",
        "    for name, code in indices.items():\n",
        "        ticker = yf.Ticker(code)\n",
        "        hist = ticker.history(period='5d')  # 改为获取最近5天的数据\n",
        "        if len(hist) >= 2:\n",
        "            close = hist['Close'][-1]\n",
        "            pre_close = hist['Close'][-2]\n",
        "            change = close - pre_close\n",
        "            pct_change = change / pre_close * 100\n",
        "            trend = \"上涨\" if change > 0 else \"下跌\" if change < 0 else \"持平\"\n",
        "            data[name] = (close, trend, pct_change)\n",
        "        else:\n",
        "            data[name] = None\n",
        "    return data\n",
        "\n",
        "# 输出趋势总结\n",
        "def summarize_trends(data):\n",
        "    summary = \"\"\n",
        "    for name, values in data.items():\n",
        "        if values:\n",
        "            close, trend, pct_change = values\n",
        "            summary += f\"{name}今日收盘价为{close:.2f}点，相较昨日{trend}了{abs(pct_change):.2f}%。\\n\"\n",
        "        else:\n",
        "            summary += f\"未能获取{name}的今日数据。\\n\"\n",
        "    return summary\n",
        "\n",
        "# 获取数据并打印输出\n",
        "index_data = get_index_data()\n",
        "print(summarize_trends(index_data))"
      ],
      "metadata": {
        "colab": {
          "base_uri": "https://localhost:8080/"
        },
        "id": "rTeJjx2dci9O",
        "outputId": "0e84d629-098d-44f1-f5ae-b181359a20c1"
      },
      "execution_count": 15,
      "outputs": [
        {
          "output_type": "stream",
          "name": "stderr",
          "text": [
            "<ipython-input-15-34652847de27>:20: FutureWarning: Series.__getitem__ treating keys as positions is deprecated. In a future version, integer keys will always be treated as labels (consistent with DataFrame behavior). To access a value by position, use `ser.iloc[pos]`\n",
            "  close = hist['Close'][-1]\n",
            "<ipython-input-15-34652847de27>:21: FutureWarning: Series.__getitem__ treating keys as positions is deprecated. In a future version, integer keys will always be treated as labels (consistent with DataFrame behavior). To access a value by position, use `ser.iloc[pos]`\n",
            "  pre_close = hist['Close'][-2]\n",
            "<ipython-input-15-34652847de27>:20: FutureWarning: Series.__getitem__ treating keys as positions is deprecated. In a future version, integer keys will always be treated as labels (consistent with DataFrame behavior). To access a value by position, use `ser.iloc[pos]`\n",
            "  close = hist['Close'][-1]\n",
            "<ipython-input-15-34652847de27>:21: FutureWarning: Series.__getitem__ treating keys as positions is deprecated. In a future version, integer keys will always be treated as labels (consistent with DataFrame behavior). To access a value by position, use `ser.iloc[pos]`\n",
            "  pre_close = hist['Close'][-2]\n",
            "<ipython-input-15-34652847de27>:20: FutureWarning: Series.__getitem__ treating keys as positions is deprecated. In a future version, integer keys will always be treated as labels (consistent with DataFrame behavior). To access a value by position, use `ser.iloc[pos]`\n",
            "  close = hist['Close'][-1]\n",
            "<ipython-input-15-34652847de27>:21: FutureWarning: Series.__getitem__ treating keys as positions is deprecated. In a future version, integer keys will always be treated as labels (consistent with DataFrame behavior). To access a value by position, use `ser.iloc[pos]`\n",
            "  pre_close = hist['Close'][-2]\n"
          ]
        },
        {
          "output_type": "stream",
          "name": "stdout",
          "text": [
            "标普500今日收盘价为5312.75点，相较昨日下跌了2.46%。\n",
            "纳斯达克今日收盘价为16619.42点，相较昨日下跌了3.34%。\n",
            "日经今日收盘价为35909.70点，相较昨日下跌了5.81%。\n",
            "恒生今日收盘价为16945.51点，相较昨日下跌了2.08%。\n",
            "\n"
          ]
        },
        {
          "output_type": "stream",
          "name": "stderr",
          "text": [
            "<ipython-input-15-34652847de27>:20: FutureWarning: Series.__getitem__ treating keys as positions is deprecated. In a future version, integer keys will always be treated as labels (consistent with DataFrame behavior). To access a value by position, use `ser.iloc[pos]`\n",
            "  close = hist['Close'][-1]\n",
            "<ipython-input-15-34652847de27>:21: FutureWarning: Series.__getitem__ treating keys as positions is deprecated. In a future version, integer keys will always be treated as labels (consistent with DataFrame behavior). To access a value by position, use `ser.iloc[pos]`\n",
            "  pre_close = hist['Close'][-2]\n"
          ]
        }
      ]
    },
    {
      "cell_type": "markdown",
      "source": [
        "# 债券市场"
      ],
      "metadata": {
        "id": "c6jk6aYtBHoJ"
      }
    },
    {
      "cell_type": "code",
      "source": [
        "drive_path = '/content/drive/My Drive/tushare_data/status/bond_status'\n",
        "if not os.path.exists(drive_path):\n",
        "    os.makedirs(drive_path)"
      ],
      "metadata": {
        "id": "TCSKceEW2vtz"
      },
      "execution_count": 6,
      "outputs": []
    },
    {
      "cell_type": "code",
      "source": [
        "today = datetime.today().strftime('%Y%m%d')\n",
        "start_date = (datetime.today() - timedelta(days=5)).strftime('%Y%m%d')\n",
        "\n",
        "# 获取国债收益率曲线数据\n",
        "bond_yield_data = pro.yc_cb(ts_code='1001.CB', curve_type='0', start_date=start_date, end_date=today)\n",
        "bond_yield_data = bond_yield_data.sort_values(by='trade_date', ascending=False)\n",
        "bond_yield_data_10y = bond_yield_data[bond_yield_data['curve_term'] == 10]\n",
        "\n",
        "if len(bond_yield_data_10y) > 1:\n",
        "    bond_yield_today = bond_yield_data_10y.iloc[0]\n",
        "    bond_yield_yesterday = bond_yield_data_10y.iloc[1]\n",
        "    latest_bond_yield_today = bond_yield_today['yield']\n",
        "    bond_yield_date_today = bond_yield_today['trade_date']\n",
        "    latest_bond_yield_yesterday = bond_yield_yesterday['yield']\n",
        "    bond_yield_date_yesterday = bond_yield_yesterday['trade_date']\n",
        "    bond_yield_change = latest_bond_yield_today - latest_bond_yield_yesterday\n",
        "else:\n",
        "    latest_bond_yield_today = bond_yield_data_10y.iloc[0]['yield']\n",
        "    bond_yield_date_today = bond_yield_data_10y.iloc[0]['trade_date']\n",
        "    latest_bond_yield_yesterday = \"暂无数据\"\n",
        "    bond_yield_date_yesterday = \"暂无数据\"\n",
        "    bond_yield_change = \"暂无数据\"\n",
        "\n",
        "# 获取最近的SHIBOR利率数据\n",
        "shibor_data = pro.shibor(start_date=start_date, end_date=today)\n",
        "shibor_data = shibor_data.sort_values(by='date', ascending=False)\n",
        "\n",
        "if len(shibor_data) > 1:\n",
        "    shibor_today = shibor_data.iloc[0]\n",
        "    shibor_yesterday = shibor_data.iloc[1]\n",
        "    latest_shibor_today = shibor_today['on']\n",
        "    shibor_date_today = shibor_today['date']\n",
        "    latest_shibor_yesterday = shibor_yesterday['on']\n",
        "    shibor_date_yesterday = shibor_yesterday['date']\n",
        "    shibor_change = latest_shibor_today - latest_shibor_yesterday\n",
        "else:\n",
        "    latest_shibor_today = shibor_data.iloc[0]['on']\n",
        "    shibor_date_today = shibor_data.iloc[0]['date']\n",
        "    latest_shibor_yesterday = \"暂无数据\"\n",
        "    shibor_date_yesterday = \"暂无数据\"\n",
        "    shibor_change = \"暂无数据\"\n",
        "\n",
        "print(f\"今日国债收益率（10年期）[{bond_yield_date_today}]：{latest_bond_yield_today}%，相较前一日（{bond_yield_date_yesterday}）变化：{bond_yield_change:.2f}%。\")\n",
        "print(f\"最新上海银行间同业拆放利率（{shibor_date_today}）：{latest_shibor_today}%，相较昨日（{shibor_date_yesterday}）变化：{shibor_change:.2f}%。\")\n"
      ],
      "metadata": {
        "colab": {
          "base_uri": "https://localhost:8080/"
        },
        "id": "DU3Alys02vxT",
        "outputId": "4e2ab4ac-fd39-4e1f-e2e3-0ef01d12cc12"
      },
      "execution_count": 7,
      "outputs": [
        {
          "output_type": "stream",
          "name": "stdout",
          "text": [
            "今日国债收益率（10年期）[20240801]：2.1297%，相较前一日（20240731）变化：-0.02%。\n",
            "最新上海银行间同业拆放利率（20240802）：1.573%，相较昨日（20240801）变化：-0.04%。\n"
          ]
        }
      ]
    },
    {
      "cell_type": "markdown",
      "source": [
        "# 美元兑人民币汇率"
      ],
      "metadata": {
        "id": "GNO3AvZnITMa"
      }
    },
    {
      "cell_type": "code",
      "source": [
        "# 获取最近的外汇汇率数据\n",
        "fx_rate_data = pro.fx_daily(ts_code='USDCNH.FXCM', start_date=start_date, end_date=today)\n",
        "fx_rate_data = fx_rate_data.sort_values(by='trade_date', ascending=False)\n",
        "\n",
        "if len(fx_rate_data) > 1:\n",
        "    fx_rate_today = fx_rate_data.iloc[0]\n",
        "    fx_rate_yesterday = fx_rate_data.iloc[1]\n",
        "    latest_fx_rate_today = fx_rate_today['bid_close']\n",
        "    fx_rate_date_today = fx_rate_today['trade_date']\n",
        "    latest_fx_rate_yesterday = fx_rate_yesterday['bid_close']\n",
        "    fx_rate_date_yesterday = fx_rate_yesterday['trade_date']\n",
        "    fx_rate_change = latest_fx_rate_today - latest_fx_rate_yesterday\n",
        "elif len(fx_rate_data) == 1:\n",
        "    fx_rate_today = fx_rate_data.iloc[0]\n",
        "    latest_fx_rate_today = fx_rate_today['bid_close']\n",
        "    fx_rate_date_today = fx_rate_today['trade_date']\n",
        "    latest_fx_rate_yesterday = \"暂无数据\"\n",
        "    fx_rate_date_yesterday = \"暂无数据\"\n",
        "    fx_rate_change = \"暂无数据\"\n",
        "else:\n",
        "    latest_fx_rate_today = \"暂无数据\"\n",
        "    fx_rate_date_today = \"暂无数据\"\n",
        "    latest_fx_rate_yesterday = \"暂无数据\"\n",
        "    fx_rate_date_yesterday = \"暂无数据\"\n",
        "    fx_rate_change = \"暂无数据\"\n",
        "\n",
        "print(f\"美元兑人民币汇率（{fx_rate_date_today}）：{latest_fx_rate_today}，相较昨日（{fx_rate_date_yesterday}）变化：{fx_rate_change*100:.3f}%。\")"
      ],
      "metadata": {
        "colab": {
          "base_uri": "https://localhost:8080/"
        },
        "id": "k9BARd5uIW8x",
        "outputId": "0d5a9b15-2dbf-4510-da1f-e92a2ec53b27"
      },
      "execution_count": 8,
      "outputs": [
        {
          "output_type": "stream",
          "name": "stdout",
          "text": [
            "美元兑人民币汇率（20240801）：7.23316，相较昨日（20240731）变化：-1.708%。\n"
          ]
        }
      ]
    },
    {
      "cell_type": "markdown",
      "source": [
        "# Financial News"
      ],
      "metadata": {
        "id": "mgLAc6gXJa0m"
      }
    },
    {
      "cell_type": "code",
      "source": [
        "drive_path = '/content/drive/My Drive/tushare_data/news'\n",
        "if not os.path.exists(drive_path):\n",
        "    os.makedirs(drive_path)\n",
        "\n",
        "print(\"Fetching latest news from Sina...\")\n",
        "news_data = pro.news(src='sina', start_date='2024-07-21 09:00:00', end_date='2024-07-29 10:10:00')\n",
        "\n",
        "print(\"Columns in news data:\\n\", news_data.columns)\n",
        "\n",
        "random_news_data = news_data.sample(n=5)\n",
        "\n",
        "print(\"Randomly selected news data sample:\\n\", random_news_data)\n",
        "\n",
        "news_list = []\n",
        "\n",
        "for index, row in random_news_data.iterrows():\n",
        "    datetime_str = row.get('datetime', \"暂无数据\")\n",
        "    title = row.get('title', \"暂无数据\") if pd.notna(row['title']) else \"暂无数据\"\n",
        "    content = row.get('content', \"暂无数据\") if pd.notna(row['content']) else \"暂无数据\"\n",
        "\n",
        "    news_desc = f\"\"\"\n",
        "    时间：{datetime_str}\n",
        "    标题：{title}\n",
        "    内容：{content}\n",
        "    \"\"\"\n",
        "    news_list.append(news_desc.strip())\n",
        "\n",
        "print(\"\\n最新的五个新闻：\")\n",
        "for news in news_list:\n",
        "    print(news)\n",
        "    print('-' * 80)"
      ],
      "metadata": {
        "colab": {
          "base_uri": "https://localhost:8080/"
        },
        "id": "POGc04b7IXOS",
        "outputId": "d1abe0e2-6502-4eb2-8320-ec2b7ca1924d"
      },
      "execution_count": 9,
      "outputs": [
        {
          "output_type": "stream",
          "name": "stdout",
          "text": [
            "Fetching latest news from Sina...\n",
            "Columns in news data:\n",
            " Index(['datetime', 'content', 'title'], dtype='object')\n",
            "Randomly selected news data sample:\n",
            "                 datetime                                            content  \\\n",
            "354  2024-07-28 18:37:48  【日本岩手县以东海域发生5.3级地震】据日本气象厅消息，当地时间7月28日19时13分左右，...   \n",
            "78   2024-07-29 08:17:57                               标普：澳大利亚政府赤字仍然位居全球前列。   \n",
            "603  2024-07-28 08:56:18  【中国制造的奥运纪念品卖爆了 粉色埃菲尔铁塔卖断货】巴黎奥运会期间，世界各地的游客在观看比赛...   \n",
            "985  2024-07-27 13:31:32  【美瑞新材：聚氨酯产业园一期项目试生产方案通过验收】 美瑞新材7月26日接受机构调研时表示，...   \n",
            "519  2024-07-28 12:13:54  【上海刚刚发布高温黄色预警】上海中心气象台12时发布高温黄色预警信号：受副热带高压影响，预计...   \n",
            "\n",
            "    title  \n",
            "354        \n",
            "78         \n",
            "603        \n",
            "985        \n",
            "519        \n",
            "\n",
            "最新的五个新闻：\n",
            "时间：2024-07-28 18:37:48\n",
            "    标题：\n",
            "    内容：【日本岩手县以东海域发生5.3级地震】据日本气象厅消息，当地时间7月28日19时13分左右，日本岩手县以东海域发生5.3级地震，最大震感为震度2，震源深度10公里。本次地震没有引发海啸的风险。\n",
            "--------------------------------------------------------------------------------\n",
            "时间：2024-07-29 08:17:57\n",
            "    标题：\n",
            "    内容：标普：澳大利亚政府赤字仍然位居全球前列。\n",
            "--------------------------------------------------------------------------------\n",
            "时间：2024-07-28 08:56:18\n",
            "    标题：\n",
            "    内容：【中国制造的奥运纪念品卖爆了 粉色埃菲尔铁塔卖断货】巴黎奥运会期间，世界各地的游客在观看比赛的同时，也少不了在奥运商店里选购心仪的奥运纪念品。记者探访了巴黎香榭丽舍大街上的奥运商品旗舰店。店员告诉记者，法国市场上一直有很多产品都是中国制造。有巴黎奥运标识的白色的T恤、粉色和蓝色的埃菲尔铁塔，现在已经脱销了，还有很多都卖得不错。（央视财经）\n",
            "--------------------------------------------------------------------------------\n",
            "时间：2024-07-27 13:31:32\n",
            "    标题：\n",
            "    内容：【美瑞新材：聚氨酯产业园一期项目试生产方案通过验收】 美瑞新材7月26日接受机构调研时表示，聚氨酯产业园一期项目的试生产方案及试生产条件已通过了相关部门的验收。近期，公司在进行相关原材料采购及生产设备调试工作，力争早日投料试产。\n",
            "--------------------------------------------------------------------------------\n",
            "时间：2024-07-28 12:13:54\n",
            "    标题：\n",
            "    内容：【上海刚刚发布高温黄色预警】上海中心气象台12时发布高温黄色预警信号：受副热带高压影响，预计嘉定、宝山、青浦、闵行、松江和中心城区今天的最高气温将超过35℃，请大家注意用火用电安全，做好防暑防晒工作。\n",
            "--------------------------------------------------------------------------------\n"
          ]
        }
      ]
    }
  ]
}