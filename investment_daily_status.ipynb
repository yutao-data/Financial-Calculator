{
  "nbformat": 4,
  "nbformat_minor": 0,
  "metadata": {
    "colab": {
      "provenance": [],
      "authorship_tag": "ABX9TyOFpKeqKa7CFyAN+vD5lIwN",
      "include_colab_link": true
    },
    "kernelspec": {
      "name": "python3",
      "display_name": "Python 3"
    },
    "language_info": {
      "name": "python"
    }
  },
  "cells": [
    {
      "cell_type": "markdown",
      "metadata": {
        "id": "view-in-github",
        "colab_type": "text"
      },
      "source": [
        "<a href=\"https://colab.research.google.com/github/yutao-data/Financial-Calculator/blob/main/investment_daily_status.ipynb\" target=\"_parent\"><img src=\"https://colab.research.google.com/assets/colab-badge.svg\" alt=\"Open In Colab\"/></a>"
      ]
    },
    {
      "cell_type": "code",
      "execution_count": 1,
      "metadata": {
        "colab": {
          "base_uri": "https://localhost:8080/"
        },
        "id": "XnbKuyey2qeW",
        "outputId": "845c8d70-a060-4854-ef1a-6c6511e66dcb"
      },
      "outputs": [
        {
          "output_type": "stream",
          "name": "stdout",
          "text": [
            "Collecting tushare\n",
            "  Downloading tushare-1.4.7-py3-none-any.whl.metadata (2.8 kB)\n",
            "Requirement already satisfied: pandas in /usr/local/lib/python3.10/dist-packages (from tushare) (2.1.4)\n",
            "Requirement already satisfied: requests in /usr/local/lib/python3.10/dist-packages (from tushare) (2.31.0)\n",
            "Requirement already satisfied: lxml in /usr/local/lib/python3.10/dist-packages (from tushare) (4.9.4)\n",
            "Collecting simplejson (from tushare)\n",
            "  Downloading simplejson-3.19.2-cp310-cp310-manylinux_2_5_x86_64.manylinux1_x86_64.manylinux_2_17_x86_64.manylinux2014_x86_64.whl.metadata (3.1 kB)\n",
            "Collecting bs4 (from tushare)\n",
            "  Downloading bs4-0.0.2-py2.py3-none-any.whl.metadata (411 bytes)\n",
            "Collecting websocket-client==0.57.0 (from tushare)\n",
            "  Downloading websocket_client-0.57.0-py2.py3-none-any.whl.metadata (7.5 kB)\n",
            "Requirement already satisfied: tqdm in /usr/local/lib/python3.10/dist-packages (from tushare) (4.66.4)\n",
            "Requirement already satisfied: six in /usr/local/lib/python3.10/dist-packages (from websocket-client==0.57.0->tushare) (1.16.0)\n",
            "Requirement already satisfied: beautifulsoup4 in /usr/local/lib/python3.10/dist-packages (from bs4->tushare) (4.12.3)\n",
            "Requirement already satisfied: numpy<2,>=1.22.4 in /usr/local/lib/python3.10/dist-packages (from pandas->tushare) (1.26.4)\n",
            "Requirement already satisfied: python-dateutil>=2.8.2 in /usr/local/lib/python3.10/dist-packages (from pandas->tushare) (2.8.2)\n",
            "Requirement already satisfied: pytz>=2020.1 in /usr/local/lib/python3.10/dist-packages (from pandas->tushare) (2024.1)\n",
            "Requirement already satisfied: tzdata>=2022.1 in /usr/local/lib/python3.10/dist-packages (from pandas->tushare) (2024.1)\n",
            "Requirement already satisfied: charset-normalizer<4,>=2 in /usr/local/lib/python3.10/dist-packages (from requests->tushare) (3.3.2)\n",
            "Requirement already satisfied: idna<4,>=2.5 in /usr/local/lib/python3.10/dist-packages (from requests->tushare) (3.7)\n",
            "Requirement already satisfied: urllib3<3,>=1.21.1 in /usr/local/lib/python3.10/dist-packages (from requests->tushare) (2.0.7)\n",
            "Requirement already satisfied: certifi>=2017.4.17 in /usr/local/lib/python3.10/dist-packages (from requests->tushare) (2024.7.4)\n",
            "Requirement already satisfied: soupsieve>1.2 in /usr/local/lib/python3.10/dist-packages (from beautifulsoup4->bs4->tushare) (2.5)\n",
            "Downloading tushare-1.4.7-py3-none-any.whl (140 kB)\n",
            "\u001b[2K   \u001b[90m━━━━━━━━━━━━━━━━━━━━━━━━━━━━━━━━━━━━━━━━\u001b[0m \u001b[32m140.8/140.8 kB\u001b[0m \u001b[31m3.1 MB/s\u001b[0m eta \u001b[36m0:00:00\u001b[0m\n",
            "\u001b[?25hDownloading websocket_client-0.57.0-py2.py3-none-any.whl (200 kB)\n",
            "\u001b[2K   \u001b[90m━━━━━━━━━━━━━━━━━━━━━━━━━━━━━━━━━━━━━━━━\u001b[0m \u001b[32m200.9/200.9 kB\u001b[0m \u001b[31m8.1 MB/s\u001b[0m eta \u001b[36m0:00:00\u001b[0m\n",
            "\u001b[?25hDownloading bs4-0.0.2-py2.py3-none-any.whl (1.2 kB)\n",
            "Downloading simplejson-3.19.2-cp310-cp310-manylinux_2_5_x86_64.manylinux1_x86_64.manylinux_2_17_x86_64.manylinux2014_x86_64.whl (137 kB)\n",
            "\u001b[2K   \u001b[90m━━━━━━━━━━━━━━━━━━━━━━━━━━━━━━━━━━━━━━━━\u001b[0m \u001b[32m137.9/137.9 kB\u001b[0m \u001b[31m6.5 MB/s\u001b[0m eta \u001b[36m0:00:00\u001b[0m\n",
            "\u001b[?25hInstalling collected packages: websocket-client, simplejson, bs4, tushare\n",
            "  Attempting uninstall: websocket-client\n",
            "    Found existing installation: websocket-client 1.8.0\n",
            "    Uninstalling websocket-client-1.8.0:\n",
            "      Successfully uninstalled websocket-client-1.8.0\n",
            "Successfully installed bs4-0.0.2 simplejson-3.19.2 tushare-1.4.7 websocket-client-0.57.0\n",
            "Mounted at /content/drive\n"
          ]
        }
      ],
      "source": [
        "!pip install tushare\n",
        "from google.colab import drive\n",
        "drive.mount('/content/drive')"
      ]
    },
    {
      "cell_type": "code",
      "source": [
        "import pandas as pd\n",
        "import matplotlib.pyplot as plt\n",
        "import tushare as ts\n",
        "import os\n",
        "from datetime import datetime, timedelta\n",
        "import time\n",
        "\n",
        "# Initialize the Tushare API\n",
        "api_key_path = '/content/drive/My Drive/tushare_data/api_key.txt'\n",
        "with open(api_key_path, 'r') as file:\n",
        "    api_key = file.readline().strip()\n",
        "pro = ts.pro_api(api_key)"
      ],
      "metadata": {
        "id": "5u_4UX302vmj"
      },
      "execution_count": 56,
      "outputs": []
    },
    {
      "cell_type": "markdown",
      "source": [
        "# 股票市场"
      ],
      "metadata": {
        "id": "Ce_RZD4yBKcV"
      }
    },
    {
      "cell_type": "code",
      "source": [
        "drive_path = '/content/drive/My Drive/tushare_data/status/stock_status'\n",
        "if not os.path.exists(drive_path):\n",
        "    os.makedirs(drive_path)"
      ],
      "metadata": {
        "id": "9xykJIvKBPZS"
      },
      "execution_count": 28,
      "outputs": []
    },
    {
      "cell_type": "code",
      "source": [
        "today = datetime.today().strftime('%Y%m%d')\n",
        "\n",
        "index_list = ['000001.SH', '399001.SZ']\n",
        "index_data_1 = pro.index_daily(ts_code=index_list[0], start_date=today, end_date=today)\n",
        "index_data_2 = pro.index_daily(ts_code=index_list[1], start_date=today, end_date=today)\n",
        "index_data = pd.concat([index_data_1, index_data_2])\n",
        "\n",
        "index_data_path = os.path.join(drive_path, f'index_data_{today}.csv')\n",
        "index_data.to_csv(index_data_path, index=False)\n",
        "\n",
        "stock_data = pro.daily(trade_date=today)\n",
        "\n",
        "stock_data_path = os.path.join(drive_path, f'stock_data_{today}.csv')\n",
        "stock_data.to_csv(stock_data_path, index=False)\n",
        "\n",
        "total_volume = stock_data['vol'].sum() / 1e8  # 转换为亿股\n",
        "total_turnover = stock_data['amount'].sum() / 1e5  # 转换为亿元\n",
        "\n",
        "rise_count = (stock_data['pct_chg'] > 0).sum()  # 上涨家数\n",
        "fall_count = (stock_data['pct_chg'] < 0).sum()  # 下跌家数\n",
        "\n",
        "moneyflow_hsgt = pro.moneyflow_hsgt(trade_date=today)\n",
        "moneyflow_hsgt_path = os.path.join(drive_path, f'moneyflow_hsgt_{today}.csv')\n",
        "moneyflow_hsgt.to_csv(moneyflow_hsgt_path, index=False)\n",
        "\n",
        "northbound_inflow = moneyflow_hsgt['north_money'].sum() / 1e2  # 转换为亿元\n",
        "southbound_inflow = moneyflow_hsgt['south_money'].sum() / 1e2  # 转换为亿元\n",
        "\n",
        "daily_basic = pro.daily_basic(trade_date=today)\n",
        "\n",
        "daily_basic_path = os.path.join(drive_path, f'daily_basic_{today}.csv')\n",
        "daily_basic.to_csv(daily_basic_path, index=False)\n",
        "\n",
        "total_market_cap = daily_basic['total_mv'].sum() / 1e4  # 转换为亿元\n",
        "total_pe = daily_basic['pe'].mean()\n",
        "\n",
        "# print(f\"今日两市成交额：{total_turnover:.2f} 亿元\")\n",
        "# print(f\"今日上涨家数：{rise_count}\")\n",
        "# print(f\"今日下跌家数：{fall_count}\")\n",
        "# print(f\"今日北向资金净流入：{northbound_inflow:.2f} 亿元\")\n",
        "# print(f\"今日南向资金净流入：{southbound_inflow:.2f} 亿元\")\n",
        "# print(f\"今日市场平均市盈率：{total_pe:.2f}\")\n",
        "\n",
        "print(f\"今日两市成交额：{total_turnover:.2f} 亿元, 上涨：{rise_count}家, 待涨：{fall_count}家, 北向资金净流入：{northbound_inflow:.2f} 亿元, 内资净流入：{southbound_inflow:.2f} 亿元, 市场平均市盈率：{total_pe:.2f}。\")"
      ],
      "metadata": {
        "colab": {
          "base_uri": "https://localhost:8080/"
        },
        "id": "V8gY9Vo32vo7",
        "outputId": "9f616122-e84e-4f88-e019-d30888498bff"
      },
      "execution_count": 29,
      "outputs": [
        {
          "output_type": "stream",
          "name": "stdout",
          "text": [
            "今日两市成交额：5896.99 亿元, 上涨：2341家, 待涨：2741家, 北向资金净流入：-49.85 亿元, 内资净流入：7.45 亿元, 市场平均市盈率：58.31。\n"
          ]
        }
      ]
    },
    {
      "cell_type": "markdown",
      "source": [
        "# 债券市场"
      ],
      "metadata": {
        "id": "c6jk6aYtBHoJ"
      }
    },
    {
      "cell_type": "code",
      "source": [
        "drive_path = '/content/drive/My Drive/tushare_data/status/bond_status'\n",
        "if not os.path.exists(drive_path):\n",
        "    os.makedirs(drive_path)"
      ],
      "metadata": {
        "id": "TCSKceEW2vtz"
      },
      "execution_count": 30,
      "outputs": []
    },
    {
      "cell_type": "code",
      "source": [
        "today = datetime.today().strftime('%Y%m%d')\n",
        "start_date = (datetime.today() - timedelta(days=5)).strftime('%Y%m%d')\n",
        "\n",
        "# 获取国债收益率曲线数据\n",
        "bond_yield_data = pro.yc_cb(ts_code='1001.CB', curve_type='0', start_date=start_date, end_date=today)\n",
        "bond_yield_data = bond_yield_data.sort_values(by='trade_date', ascending=False)\n",
        "bond_yield_data_10y = bond_yield_data[bond_yield_data['curve_term'] == 10]\n",
        "\n",
        "if len(bond_yield_data_10y) > 1:\n",
        "    bond_yield_today = bond_yield_data_10y.iloc[0]\n",
        "    bond_yield_yesterday = bond_yield_data_10y.iloc[1]\n",
        "    latest_bond_yield_today = bond_yield_today['yield']\n",
        "    bond_yield_date_today = bond_yield_today['trade_date']\n",
        "    latest_bond_yield_yesterday = bond_yield_yesterday['yield']\n",
        "    bond_yield_date_yesterday = bond_yield_yesterday['trade_date']\n",
        "    bond_yield_change = latest_bond_yield_today - latest_bond_yield_yesterday\n",
        "else:\n",
        "    latest_bond_yield_today = bond_yield_data_10y.iloc[0]['yield']\n",
        "    bond_yield_date_today = bond_yield_data_10y.iloc[0]['trade_date']\n",
        "    latest_bond_yield_yesterday = \"暂无数据\"\n",
        "    bond_yield_date_yesterday = \"暂无数据\"\n",
        "    bond_yield_change = \"暂无数据\"\n",
        "\n",
        "# 获取最近的SHIBOR利率数据\n",
        "shibor_data = pro.shibor(start_date=start_date, end_date=today)\n",
        "shibor_data = shibor_data.sort_values(by='date', ascending=False)\n",
        "\n",
        "if len(shibor_data) > 1:\n",
        "    shibor_today = shibor_data.iloc[0]\n",
        "    shibor_yesterday = shibor_data.iloc[1]\n",
        "    latest_shibor_today = shibor_today['on']\n",
        "    shibor_date_today = shibor_today['date']\n",
        "    latest_shibor_yesterday = shibor_yesterday['on']\n",
        "    shibor_date_yesterday = shibor_yesterday['date']\n",
        "    shibor_change = latest_shibor_today - latest_shibor_yesterday\n",
        "else:\n",
        "    latest_shibor_today = shibor_data.iloc[0]['on']\n",
        "    shibor_date_today = shibor_data.iloc[0]['date']\n",
        "    latest_shibor_yesterday = \"暂无数据\"\n",
        "    shibor_date_yesterday = \"暂无数据\"\n",
        "    shibor_change = \"暂无数据\"\n",
        "\n",
        "print(f\"今日国债收益率（10年期）[{bond_yield_date_today}]：{latest_bond_yield_today}%，相较前一日（{bond_yield_date_yesterday}）变化：{bond_yield_change:.2f}%。\")\n",
        "print(f\"最新上海银行间同业拆放利率（{shibor_date_today}）：{latest_shibor_today}%，相较昨日（{shibor_date_yesterday}）变化：{shibor_change:.2f}%。\")\n"
      ],
      "metadata": {
        "colab": {
          "base_uri": "https://localhost:8080/"
        },
        "id": "DU3Alys02vxT",
        "outputId": "e2788507-cdc5-4f9c-b0ad-d1f110b221b9"
      },
      "execution_count": 61,
      "outputs": [
        {
          "output_type": "stream",
          "name": "stdout",
          "text": [
            "今日国债收益率（10年期）[20240729]：2.1574%，相较前一日（20240726）变化：-0.04%。\n",
            "最新上海银行间同业拆放利率（20240726）：1.689%，相较昨日（20240725）变化：-0.07%。\n"
          ]
        }
      ]
    },
    {
      "cell_type": "markdown",
      "source": [
        "# 美元兑人民币汇率"
      ],
      "metadata": {
        "id": "GNO3AvZnITMa"
      }
    },
    {
      "cell_type": "code",
      "source": [
        "# 获取最近的外汇汇率数据\n",
        "fx_rate_data = pro.fx_daily(ts_code='USDCNH.FXCM', start_date=start_date, end_date=today)\n",
        "fx_rate_data = fx_rate_data.sort_values(by='trade_date', ascending=False)\n",
        "\n",
        "if len(fx_rate_data) > 1:\n",
        "    fx_rate_today = fx_rate_data.iloc[0]\n",
        "    fx_rate_yesterday = fx_rate_data.iloc[1]\n",
        "    latest_fx_rate_today = fx_rate_today['bid_close']\n",
        "    fx_rate_date_today = fx_rate_today['trade_date']\n",
        "    latest_fx_rate_yesterday = fx_rate_yesterday['bid_close']\n",
        "    fx_rate_date_yesterday = fx_rate_yesterday['trade_date']\n",
        "    fx_rate_change = latest_fx_rate_today - latest_fx_rate_yesterday\n",
        "elif len(fx_rate_data) == 1:\n",
        "    fx_rate_today = fx_rate_data.iloc[0]\n",
        "    latest_fx_rate_today = fx_rate_today['bid_close']\n",
        "    fx_rate_date_today = fx_rate_today['trade_date']\n",
        "    latest_fx_rate_yesterday = \"暂无数据\"\n",
        "    fx_rate_date_yesterday = \"暂无数据\"\n",
        "    fx_rate_change = \"暂无数据\"\n",
        "else:\n",
        "    latest_fx_rate_today = \"暂无数据\"\n",
        "    fx_rate_date_today = \"暂无数据\"\n",
        "    latest_fx_rate_yesterday = \"暂无数据\"\n",
        "    fx_rate_date_yesterday = \"暂无数据\"\n",
        "    fx_rate_change = \"暂无数据\"\n",
        "\n",
        "print(f\"美元兑人民币汇率（{fx_rate_date_today}）：{latest_fx_rate_today}，相较昨日（{fx_rate_date_yesterday}）变化：{fx_rate_change:.5f}。\")"
      ],
      "metadata": {
        "colab": {
          "base_uri": "https://localhost:8080/"
        },
        "id": "k9BARd5uIW8x",
        "outputId": "e4e2bc71-39d5-4ed4-bfda-57ff93629a78"
      },
      "execution_count": 66,
      "outputs": [
        {
          "output_type": "stream",
          "name": "stdout",
          "text": [
            "美元兑人民币汇率（20240728）：7.26177，相较昨日（20240727）变化：0.00047。\n"
          ]
        }
      ]
    },
    {
      "cell_type": "code",
      "source": [],
      "metadata": {
        "id": "POGc04b7IXOS"
      },
      "execution_count": null,
      "outputs": []
    }
  ]
}