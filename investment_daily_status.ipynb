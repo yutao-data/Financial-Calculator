{
  "nbformat": 4,
  "nbformat_minor": 0,
  "metadata": {
    "colab": {
      "provenance": [],
      "authorship_tag": "ABX9TyObuwZS2aq0UXSYByPTBeNo",
      "include_colab_link": true
    },
    "kernelspec": {
      "name": "python3",
      "display_name": "Python 3"
    },
    "language_info": {
      "name": "python"
    }
  },
  "cells": [
    {
      "cell_type": "markdown",
      "metadata": {
        "id": "view-in-github",
        "colab_type": "text"
      },
      "source": [
        "<a href=\"https://colab.research.google.com/github/yutao-data/Financial-Calculator/blob/main/investment_daily_status.ipynb\" target=\"_parent\"><img src=\"https://colab.research.google.com/assets/colab-badge.svg\" alt=\"Open In Colab\"/></a>"
      ]
    },
    {
      "cell_type": "code",
      "execution_count": 1,
      "metadata": {
        "colab": {
          "base_uri": "https://localhost:8080/"
        },
        "id": "XnbKuyey2qeW",
        "outputId": "845c8d70-a060-4854-ef1a-6c6511e66dcb"
      },
      "outputs": [
        {
          "output_type": "stream",
          "name": "stdout",
          "text": [
            "Collecting tushare\n",
            "  Downloading tushare-1.4.7-py3-none-any.whl.metadata (2.8 kB)\n",
            "Requirement already satisfied: pandas in /usr/local/lib/python3.10/dist-packages (from tushare) (2.1.4)\n",
            "Requirement already satisfied: requests in /usr/local/lib/python3.10/dist-packages (from tushare) (2.31.0)\n",
            "Requirement already satisfied: lxml in /usr/local/lib/python3.10/dist-packages (from tushare) (4.9.4)\n",
            "Collecting simplejson (from tushare)\n",
            "  Downloading simplejson-3.19.2-cp310-cp310-manylinux_2_5_x86_64.manylinux1_x86_64.manylinux_2_17_x86_64.manylinux2014_x86_64.whl.metadata (3.1 kB)\n",
            "Collecting bs4 (from tushare)\n",
            "  Downloading bs4-0.0.2-py2.py3-none-any.whl.metadata (411 bytes)\n",
            "Collecting websocket-client==0.57.0 (from tushare)\n",
            "  Downloading websocket_client-0.57.0-py2.py3-none-any.whl.metadata (7.5 kB)\n",
            "Requirement already satisfied: tqdm in /usr/local/lib/python3.10/dist-packages (from tushare) (4.66.4)\n",
            "Requirement already satisfied: six in /usr/local/lib/python3.10/dist-packages (from websocket-client==0.57.0->tushare) (1.16.0)\n",
            "Requirement already satisfied: beautifulsoup4 in /usr/local/lib/python3.10/dist-packages (from bs4->tushare) (4.12.3)\n",
            "Requirement already satisfied: numpy<2,>=1.22.4 in /usr/local/lib/python3.10/dist-packages (from pandas->tushare) (1.26.4)\n",
            "Requirement already satisfied: python-dateutil>=2.8.2 in /usr/local/lib/python3.10/dist-packages (from pandas->tushare) (2.8.2)\n",
            "Requirement already satisfied: pytz>=2020.1 in /usr/local/lib/python3.10/dist-packages (from pandas->tushare) (2024.1)\n",
            "Requirement already satisfied: tzdata>=2022.1 in /usr/local/lib/python3.10/dist-packages (from pandas->tushare) (2024.1)\n",
            "Requirement already satisfied: charset-normalizer<4,>=2 in /usr/local/lib/python3.10/dist-packages (from requests->tushare) (3.3.2)\n",
            "Requirement already satisfied: idna<4,>=2.5 in /usr/local/lib/python3.10/dist-packages (from requests->tushare) (3.7)\n",
            "Requirement already satisfied: urllib3<3,>=1.21.1 in /usr/local/lib/python3.10/dist-packages (from requests->tushare) (2.0.7)\n",
            "Requirement already satisfied: certifi>=2017.4.17 in /usr/local/lib/python3.10/dist-packages (from requests->tushare) (2024.7.4)\n",
            "Requirement already satisfied: soupsieve>1.2 in /usr/local/lib/python3.10/dist-packages (from beautifulsoup4->bs4->tushare) (2.5)\n",
            "Downloading tushare-1.4.7-py3-none-any.whl (140 kB)\n",
            "\u001b[2K   \u001b[90m━━━━━━━━━━━━━━━━━━━━━━━━━━━━━━━━━━━━━━━━\u001b[0m \u001b[32m140.8/140.8 kB\u001b[0m \u001b[31m3.1 MB/s\u001b[0m eta \u001b[36m0:00:00\u001b[0m\n",
            "\u001b[?25hDownloading websocket_client-0.57.0-py2.py3-none-any.whl (200 kB)\n",
            "\u001b[2K   \u001b[90m━━━━━━━━━━━━━━━━━━━━━━━━━━━━━━━━━━━━━━━━\u001b[0m \u001b[32m200.9/200.9 kB\u001b[0m \u001b[31m8.1 MB/s\u001b[0m eta \u001b[36m0:00:00\u001b[0m\n",
            "\u001b[?25hDownloading bs4-0.0.2-py2.py3-none-any.whl (1.2 kB)\n",
            "Downloading simplejson-3.19.2-cp310-cp310-manylinux_2_5_x86_64.manylinux1_x86_64.manylinux_2_17_x86_64.manylinux2014_x86_64.whl (137 kB)\n",
            "\u001b[2K   \u001b[90m━━━━━━━━━━━━━━━━━━━━━━━━━━━━━━━━━━━━━━━━\u001b[0m \u001b[32m137.9/137.9 kB\u001b[0m \u001b[31m6.5 MB/s\u001b[0m eta \u001b[36m0:00:00\u001b[0m\n",
            "\u001b[?25hInstalling collected packages: websocket-client, simplejson, bs4, tushare\n",
            "  Attempting uninstall: websocket-client\n",
            "    Found existing installation: websocket-client 1.8.0\n",
            "    Uninstalling websocket-client-1.8.0:\n",
            "      Successfully uninstalled websocket-client-1.8.0\n",
            "Successfully installed bs4-0.0.2 simplejson-3.19.2 tushare-1.4.7 websocket-client-0.57.0\n",
            "Mounted at /content/drive\n"
          ]
        }
      ],
      "source": [
        "!pip install tushare\n",
        "from google.colab import drive\n",
        "drive.mount('/content/drive')"
      ]
    },
    {
      "cell_type": "code",
      "source": [
        "import pandas as pd\n",
        "import matplotlib.pyplot as plt\n",
        "import tushare as ts\n",
        "import os\n",
        "from datetime import datetime, timedelta\n",
        "import time\n",
        "\n",
        "# Initialize the Tushare API\n",
        "api_key_path = '/content/drive/My Drive/tushare_data/api_key.txt'\n",
        "with open(api_key_path, 'r') as file:\n",
        "    api_key = file.readline().strip()\n",
        "pro = ts.pro_api(api_key)"
      ],
      "metadata": {
        "id": "5u_4UX302vmj"
      },
      "execution_count": 56,
      "outputs": []
    },
    {
      "cell_type": "markdown",
      "source": [
        "# 股票市场"
      ],
      "metadata": {
        "id": "Ce_RZD4yBKcV"
      }
    },
    {
      "cell_type": "code",
      "source": [
        "drive_path = '/content/drive/My Drive/tushare_data/status/stock_status'\n",
        "if not os.path.exists(drive_path):\n",
        "    os.makedirs(drive_path)"
      ],
      "metadata": {
        "id": "9xykJIvKBPZS"
      },
      "execution_count": 28,
      "outputs": []
    },
    {
      "cell_type": "code",
      "source": [
        "today = datetime.today().strftime('%Y%m%d')\n",
        "\n",
        "def get_index_pe(index_code):\n",
        "    index_data = pro.index_dailybasic(ts_code=index_code, trade_date=today, fields='ts_code,trade_date,pe')\n",
        "    if not index_data.empty:\n",
        "        pe = index_data.iloc[0]['pe']\n",
        "        return pe\n",
        "    return None\n",
        "\n",
        "# 获取上证指数的市盈率\n",
        "sh_pe = get_index_pe('000001.SH')\n",
        "sh_pe = f\"{sh_pe:.2f}\" if sh_pe is not None else \"暂无数据\"\n",
        "\n",
        "# 获取创业板指的市盈率\n",
        "cyb_pe = get_index_pe('399006.SZ')\n",
        "cyb_pe = f\"{cyb_pe:.2f}\" if cyb_pe is not None else \"暂无数据\"\n",
        "\n",
        "# 获取两市成交数据\n",
        "stock_data = pro.daily(trade_date=today)\n",
        "stock_data_path = os.path.join(drive_path, f'stock_data_{today}.csv')\n",
        "stock_data.to_csv(stock_data_path, index=False)\n",
        "\n",
        "total_volume = stock_data['vol'].sum() / 1e8  # 转换为亿股\n",
        "total_turnover = stock_data['amount'].sum() / 1e5  # 转换为亿元\n",
        "rise_count = (stock_data['pct_chg'] > 0).sum()  # 上涨家数\n",
        "fall_count = (stock_data['pct_chg'] < 0).sum()  # 下跌家数\n",
        "\n",
        "# 获取沪深港通资金流向数据\n",
        "moneyflow_hsgt = pro.moneyflow_hsgt(trade_date=today)\n",
        "moneyflow_hsgt_path = os.path.join(drive_path, f'moneyflow_hsgt_{today}.csv')\n",
        "moneyflow_hsgt.to_csv(moneyflow_hsgt_path, index=False)\n",
        "\n",
        "northbound_inflow = moneyflow_hsgt['north_money'].sum() / 1e2  # 转换为亿元\n",
        "southbound_inflow = moneyflow_hsgt['south_money'].sum() / 1e2  # 转换为亿元\n",
        "\n",
        "daily_basic = pro.daily_basic(trade_date=today)\n",
        "daily_basic_path = os.path.join(drive_path, f'daily_basic_{today}.csv')\n",
        "daily_basic.to_csv(daily_basic_path, index=False)\n",
        "\n",
        "total_market_cap = daily_basic['total_mv'].sum() / 1e4  # 转换为亿元\n",
        "\n",
        "print(f\"今日两市成交额：{total_turnover:.2f} 亿元, 上涨：{rise_count}家, 下跌：{fall_count}家, 北向资金净流入：{northbound_inflow:.2f} 亿元, 南向资金净流入：{southbound_inflow:.2f} 亿元, 上证指数市盈率：{sh_pe}，创业板指市盈率：{cyb_pe}。\")"
      ],
      "metadata": {
        "colab": {
          "base_uri": "https://localhost:8080/"
        },
        "id": "V8gY9Vo32vo7",
        "outputId": "5b65c100-0359-44e3-9c21-b08bb41535c8"
      },
      "execution_count": 97,
      "outputs": [
        {
          "output_type": "stream",
          "name": "stdout",
          "text": [
            "今日两市成交额：5896.99 亿元, 上涨：2341家, 下跌：2741家, 北向资金净流入：-49.85 亿元, 南向资金净流入：7.45 亿元, 上证指数市盈率：12.77，创业板指市盈率：25.58。\n"
          ]
        }
      ]
    },
    {
      "cell_type": "markdown",
      "source": [
        "# 债券市场"
      ],
      "metadata": {
        "id": "c6jk6aYtBHoJ"
      }
    },
    {
      "cell_type": "code",
      "source": [
        "drive_path = '/content/drive/My Drive/tushare_data/status/bond_status'\n",
        "if not os.path.exists(drive_path):\n",
        "    os.makedirs(drive_path)"
      ],
      "metadata": {
        "id": "TCSKceEW2vtz"
      },
      "execution_count": 30,
      "outputs": []
    },
    {
      "cell_type": "code",
      "source": [
        "today = datetime.today().strftime('%Y%m%d')\n",
        "start_date = (datetime.today() - timedelta(days=5)).strftime('%Y%m%d')\n",
        "\n",
        "# 获取国债收益率曲线数据\n",
        "bond_yield_data = pro.yc_cb(ts_code='1001.CB', curve_type='0', start_date=start_date, end_date=today)\n",
        "bond_yield_data = bond_yield_data.sort_values(by='trade_date', ascending=False)\n",
        "bond_yield_data_10y = bond_yield_data[bond_yield_data['curve_term'] == 10]\n",
        "\n",
        "if len(bond_yield_data_10y) > 1:\n",
        "    bond_yield_today = bond_yield_data_10y.iloc[0]\n",
        "    bond_yield_yesterday = bond_yield_data_10y.iloc[1]\n",
        "    latest_bond_yield_today = bond_yield_today['yield']\n",
        "    bond_yield_date_today = bond_yield_today['trade_date']\n",
        "    latest_bond_yield_yesterday = bond_yield_yesterday['yield']\n",
        "    bond_yield_date_yesterday = bond_yield_yesterday['trade_date']\n",
        "    bond_yield_change = latest_bond_yield_today - latest_bond_yield_yesterday\n",
        "else:\n",
        "    latest_bond_yield_today = bond_yield_data_10y.iloc[0]['yield']\n",
        "    bond_yield_date_today = bond_yield_data_10y.iloc[0]['trade_date']\n",
        "    latest_bond_yield_yesterday = \"暂无数据\"\n",
        "    bond_yield_date_yesterday = \"暂无数据\"\n",
        "    bond_yield_change = \"暂无数据\"\n",
        "\n",
        "# 获取最近的SHIBOR利率数据\n",
        "shibor_data = pro.shibor(start_date=start_date, end_date=today)\n",
        "shibor_data = shibor_data.sort_values(by='date', ascending=False)\n",
        "\n",
        "if len(shibor_data) > 1:\n",
        "    shibor_today = shibor_data.iloc[0]\n",
        "    shibor_yesterday = shibor_data.iloc[1]\n",
        "    latest_shibor_today = shibor_today['on']\n",
        "    shibor_date_today = shibor_today['date']\n",
        "    latest_shibor_yesterday = shibor_yesterday['on']\n",
        "    shibor_date_yesterday = shibor_yesterday['date']\n",
        "    shibor_change = latest_shibor_today - latest_shibor_yesterday\n",
        "else:\n",
        "    latest_shibor_today = shibor_data.iloc[0]['on']\n",
        "    shibor_date_today = shibor_data.iloc[0]['date']\n",
        "    latest_shibor_yesterday = \"暂无数据\"\n",
        "    shibor_date_yesterday = \"暂无数据\"\n",
        "    shibor_change = \"暂无数据\"\n",
        "\n",
        "print(f\"今日国债收益率（10年期）[{bond_yield_date_today}]：{latest_bond_yield_today}%，相较前一日（{bond_yield_date_yesterday}）变化：{bond_yield_change:.2f}%。\")\n",
        "print(f\"最新上海银行间同业拆放利率（{shibor_date_today}）：{latest_shibor_today}%，相较昨日（{shibor_date_yesterday}）变化：{shibor_change:.2f}%。\")\n"
      ],
      "metadata": {
        "colab": {
          "base_uri": "https://localhost:8080/"
        },
        "id": "DU3Alys02vxT",
        "outputId": "e2788507-cdc5-4f9c-b0ad-d1f110b221b9"
      },
      "execution_count": 61,
      "outputs": [
        {
          "output_type": "stream",
          "name": "stdout",
          "text": [
            "今日国债收益率（10年期）[20240729]：2.1574%，相较前一日（20240726）变化：-0.04%。\n",
            "最新上海银行间同业拆放利率（20240726）：1.689%，相较昨日（20240725）变化：-0.07%。\n"
          ]
        }
      ]
    },
    {
      "cell_type": "markdown",
      "source": [
        "# 美元兑人民币汇率"
      ],
      "metadata": {
        "id": "GNO3AvZnITMa"
      }
    },
    {
      "cell_type": "code",
      "source": [
        "# 获取最近的外汇汇率数据\n",
        "fx_rate_data = pro.fx_daily(ts_code='USDCNH.FXCM', start_date=start_date, end_date=today)\n",
        "fx_rate_data = fx_rate_data.sort_values(by='trade_date', ascending=False)\n",
        "\n",
        "if len(fx_rate_data) > 1:\n",
        "    fx_rate_today = fx_rate_data.iloc[0]\n",
        "    fx_rate_yesterday = fx_rate_data.iloc[1]\n",
        "    latest_fx_rate_today = fx_rate_today['bid_close']\n",
        "    fx_rate_date_today = fx_rate_today['trade_date']\n",
        "    latest_fx_rate_yesterday = fx_rate_yesterday['bid_close']\n",
        "    fx_rate_date_yesterday = fx_rate_yesterday['trade_date']\n",
        "    fx_rate_change = latest_fx_rate_today - latest_fx_rate_yesterday\n",
        "elif len(fx_rate_data) == 1:\n",
        "    fx_rate_today = fx_rate_data.iloc[0]\n",
        "    latest_fx_rate_today = fx_rate_today['bid_close']\n",
        "    fx_rate_date_today = fx_rate_today['trade_date']\n",
        "    latest_fx_rate_yesterday = \"暂无数据\"\n",
        "    fx_rate_date_yesterday = \"暂无数据\"\n",
        "    fx_rate_change = \"暂无数据\"\n",
        "else:\n",
        "    latest_fx_rate_today = \"暂无数据\"\n",
        "    fx_rate_date_today = \"暂无数据\"\n",
        "    latest_fx_rate_yesterday = \"暂无数据\"\n",
        "    fx_rate_date_yesterday = \"暂无数据\"\n",
        "    fx_rate_change = \"暂无数据\"\n",
        "\n",
        "print(f\"美元兑人民币汇率（{fx_rate_date_today}）：{latest_fx_rate_today}，相较昨日（{fx_rate_date_yesterday}）变化：{fx_rate_change*100:.3f}%。\")"
      ],
      "metadata": {
        "colab": {
          "base_uri": "https://localhost:8080/"
        },
        "id": "k9BARd5uIW8x",
        "outputId": "467ba968-b332-4e81-908d-cca7601298f1"
      },
      "execution_count": 71,
      "outputs": [
        {
          "output_type": "stream",
          "name": "stdout",
          "text": [
            "美元兑人民币汇率（20240728）：7.26177，相较昨日（20240727）变化：0.047%。\n"
          ]
        }
      ]
    },
    {
      "cell_type": "markdown",
      "source": [
        "# Financial News"
      ],
      "metadata": {
        "id": "mgLAc6gXJa0m"
      }
    },
    {
      "cell_type": "code",
      "source": [
        "drive_path = '/content/drive/My Drive/tushare_data/news'\n",
        "if not os.path.exists(drive_path):\n",
        "    os.makedirs(drive_path)\n",
        "\n",
        "print(\"Fetching latest news from Sina...\")\n",
        "news_data = pro.news(src='sina', start_date='2024-07-21 09:00:00', end_date='2024-07-29 10:10:00')\n",
        "\n",
        "print(\"Columns in news data:\\n\", news_data.columns)\n",
        "\n",
        "random_news_data = news_data.sample(n=5)\n",
        "\n",
        "print(\"Randomly selected news data sample:\\n\", random_news_data)\n",
        "\n",
        "news_list = []\n",
        "\n",
        "for index, row in random_news_data.iterrows():\n",
        "    datetime_str = row.get('datetime', \"暂无数据\")\n",
        "    title = row.get('title', \"暂无数据\") if pd.notna(row['title']) else \"暂无数据\"\n",
        "    content = row.get('content', \"暂无数据\") if pd.notna(row['content']) else \"暂无数据\"\n",
        "\n",
        "    news_desc = f\"\"\"\n",
        "    时间：{datetime_str}\n",
        "    标题：{title}\n",
        "    内容：{content}\n",
        "    \"\"\"\n",
        "    news_list.append(news_desc.strip())\n",
        "\n",
        "print(\"\\n最新的五个新闻：\")\n",
        "for news in news_list:\n",
        "    print(news)\n",
        "    print('-' * 80)"
      ],
      "metadata": {
        "colab": {
          "base_uri": "https://localhost:8080/"
        },
        "id": "POGc04b7IXOS",
        "outputId": "c7d858d2-0998-4592-f79f-ee34fc67b9a9"
      },
      "execution_count": 93,
      "outputs": [
        {
          "output_type": "stream",
          "name": "stdout",
          "text": [
            "Fetching latest news from Sina...\n",
            "Columns in news data:\n",
            " Index(['datetime', 'content', 'title'], dtype='object')\n",
            "Randomly selected news data sample:\n",
            "                 datetime                                            content  \\\n",
            "885  2024-07-27 17:10:16  【李斌公布第二代蔚来NIO Phone售价：6499元起售】2024蔚来创新科技日上，蔚来董...   \n",
            "916  2024-07-27 15:53:46  【第七届进博会倒计时100天 签约展览面积超36万平方米】第七届中国国际进口博览会将于今年1...   \n",
            "227  2024-07-29 02:56:40  【稳增长加码信号明确 A股市场信心有望逐渐修复】上周，A股市场未能延续前期反弹趋势，主要指数...   \n",
            "654  2024-07-28 06:44:02  【又一突破！华能石岛湾核电站扩建一期工程将开工】今天上午，我国先进核电基地——华能石岛湾核电...   \n",
            "672  2024-07-28 05:04:21  特朗普2024年比特币大会演讲要点总结：\\n1、参会原因是想让美国在数字加密货币保持领先地位...   \n",
            "\n",
            "    title  \n",
            "885        \n",
            "916        \n",
            "227        \n",
            "654        \n",
            "672        \n",
            "\n",
            "最新的五个新闻：\n",
            "时间：2024-07-27 17:10:16\n",
            "    标题：\n",
            "    内容：【李斌公布第二代蔚来NIO Phone售价：6499元起售】2024蔚来创新科技日上，蔚来董事长李斌公布第二代蔚来NIO Phone售价，与前代产品保持一致，仍为6499元起售，蔚来APP、京东、抖音即刻开售。\n",
            "--------------------------------------------------------------------------------\n",
            "时间：2024-07-27 15:53:46\n",
            "    标题：\n",
            "    内容：【第七届进博会倒计时100天 签约展览面积超36万平方米】第七届中国国际进口博览会将于今年11月5日至10日在国家会展中心（上海）举办，今天（27日）迎来倒计时100天，各项筹备工作正在有序开展。记者了解到，目前第七届中国国际进口博览会签约展览面积超过36万平方米，已在全国举办9场招商路演和供需对接活动，与全国近20家行业龙头企业签订重要采购商合作备忘录。 （央视新闻）\n",
            "--------------------------------------------------------------------------------\n",
            "时间：2024-07-29 02:56:40\n",
            "    标题：\n",
            "    内容：【稳增长加码信号明确 A股市场信心有望逐渐修复】上周，A股市场未能延续前期反弹趋势，主要指数再创5月以来的调整新低。机构分析认为，近期市场表现偏弱主要是受到内外因素综合影响。不过，从政策信号看，上周央行降息落地，国家发展改革委、财政部加力支持大规模设备更新和消费品以旧换新等消息，已经释放出稳增长政策加码信号。展望下半年，扩内需、稳增长政策发力值得期待。展望后市，中金公司认为，在短期风险因素集中暴露的背景下，中国资产价格可能已经反映过于悲观的预期。上周货币及财政政策思路均出现积极调整，未来稳增长举措仍有望进一步加码，资本市场改革有序落地，有助于投资者信心逐渐修复。（上证报）\n",
            "--------------------------------------------------------------------------------\n",
            "时间：2024-07-28 06:44:02\n",
            "    标题：\n",
            "    内容：【又一突破！华能石岛湾核电站扩建一期工程将开工】今天上午，我国先进核电基地——华能石岛湾核电基地压水堆扩建一期工程即将开工建设。这是继去年12月全球首座第四代核电站在此投入商业运行以来，该基地在自主三代核电机组建设领域实现的又一突破。\n",
            "--------------------------------------------------------------------------------\n",
            "时间：2024-07-28 05:04:21\n",
            "    标题：\n",
            "    内容：特朗普2024年比特币大会演讲要点总结：\n",
            "1、参会原因是想让美国在数字加密货币保持领先地位。\n",
            "2、比特币是“合作和人类成就的奇迹”。如果我们不拥抱加密货币和比特币技术，其他国家将占据主导地位。\n",
            "3、为了方便加密数字领域采矿，将在供电领域加大力度，发展燃料发电、核电以及其他的环境友好型发电方式。\n",
            "4、希望加密货币在美国被开采。\n",
            "5、当选的第一天就会解雇美国证交会主席根斯勒。\n",
            "6、如果当选，将任命一个比特币总统委员会。将保留美国所有的比特币工作岗位。\n",
            "7、如果当选，在我担任总统期间，永远不会有央行数字货币（CBDC），将命令财政部停止创建中央银行数字货币。\n",
            "8、比特币不会威胁到美元，美国现任政府的行为正在威胁美元。\n",
            "9、数十亿人将会把他们的储蓄存入比特币，永远不要卖掉你的比特币。\n",
            "10、如果当选，政府将100%保留其拥有的比特币。\n",
            "11、比特币市值未来会超越黄金。比特币自诞生以来市值越来越高，已成为全球市值排名第九的资产，很快就会超越白银，未来会超越黄金。\n",
            "--------------------------------------------------------------------------------\n"
          ]
        }
      ]
    }
  ]
}