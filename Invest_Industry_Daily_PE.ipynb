{
  "nbformat": 4,
  "nbformat_minor": 0,
  "metadata": {
    "colab": {
      "provenance": [],
      "authorship_tag": "ABX9TyNajMr0LBdOeUDdfV+EAjHX",
      "include_colab_link": true
    },
    "kernelspec": {
      "name": "python3",
      "display_name": "Python 3"
    },
    "language_info": {
      "name": "python"
    }
  },
  "cells": [
    {
      "cell_type": "markdown",
      "metadata": {
        "id": "view-in-github",
        "colab_type": "text"
      },
      "source": [
        "<a href=\"https://colab.research.google.com/github/yutao-data/Financial-Calculator/blob/main/Invest_Industry_Daily_PE.ipynb\" target=\"_parent\"><img src=\"https://colab.research.google.com/assets/colab-badge.svg\" alt=\"Open In Colab\"/></a>"
      ]
    },
    {
      "cell_type": "code",
      "source": [
        "!pip install tushare\n",
        "!pip install tabulate\n",
        "from google.colab import drive\n",
        "drive.mount('/content/drive')"
      ],
      "metadata": {
        "colab": {
          "base_uri": "https://localhost:8080/"
        },
        "id": "LBZAkjZKuuT8",
        "outputId": "78660919-96e6-411a-ba01-b661bcfb3004"
      },
      "execution_count": 35,
      "outputs": [
        {
          "output_type": "stream",
          "name": "stdout",
          "text": [
            "Requirement already satisfied: tushare in /usr/local/lib/python3.10/dist-packages (1.4.7)\n",
            "Requirement already satisfied: pandas in /usr/local/lib/python3.10/dist-packages (from tushare) (2.1.4)\n",
            "Requirement already satisfied: requests in /usr/local/lib/python3.10/dist-packages (from tushare) (2.31.0)\n",
            "Requirement already satisfied: lxml in /usr/local/lib/python3.10/dist-packages (from tushare) (4.9.4)\n",
            "Requirement already satisfied: simplejson in /usr/local/lib/python3.10/dist-packages (from tushare) (3.19.2)\n",
            "Requirement already satisfied: bs4 in /usr/local/lib/python3.10/dist-packages (from tushare) (0.0.2)\n",
            "Requirement already satisfied: websocket-client==0.57.0 in /usr/local/lib/python3.10/dist-packages (from tushare) (0.57.0)\n",
            "Requirement already satisfied: tqdm in /usr/local/lib/python3.10/dist-packages (from tushare) (4.66.4)\n",
            "Requirement already satisfied: six in /usr/local/lib/python3.10/dist-packages (from websocket-client==0.57.0->tushare) (1.16.0)\n",
            "Requirement already satisfied: beautifulsoup4 in /usr/local/lib/python3.10/dist-packages (from bs4->tushare) (4.12.3)\n",
            "Requirement already satisfied: numpy<2,>=1.22.4 in /usr/local/lib/python3.10/dist-packages (from pandas->tushare) (1.26.4)\n",
            "Requirement already satisfied: python-dateutil>=2.8.2 in /usr/local/lib/python3.10/dist-packages (from pandas->tushare) (2.8.2)\n",
            "Requirement already satisfied: pytz>=2020.1 in /usr/local/lib/python3.10/dist-packages (from pandas->tushare) (2024.1)\n",
            "Requirement already satisfied: tzdata>=2022.1 in /usr/local/lib/python3.10/dist-packages (from pandas->tushare) (2024.1)\n",
            "Requirement already satisfied: charset-normalizer<4,>=2 in /usr/local/lib/python3.10/dist-packages (from requests->tushare) (3.3.2)\n",
            "Requirement already satisfied: idna<4,>=2.5 in /usr/local/lib/python3.10/dist-packages (from requests->tushare) (3.7)\n",
            "Requirement already satisfied: urllib3<3,>=1.21.1 in /usr/local/lib/python3.10/dist-packages (from requests->tushare) (2.0.7)\n",
            "Requirement already satisfied: certifi>=2017.4.17 in /usr/local/lib/python3.10/dist-packages (from requests->tushare) (2024.7.4)\n",
            "Requirement already satisfied: soupsieve>1.2 in /usr/local/lib/python3.10/dist-packages (from beautifulsoup4->bs4->tushare) (2.5)\n",
            "Requirement already satisfied: tabulate in /usr/local/lib/python3.10/dist-packages (0.9.0)\n",
            "Drive already mounted at /content/drive; to attempt to forcibly remount, call drive.mount(\"/content/drive\", force_remount=True).\n"
          ]
        }
      ]
    },
    {
      "cell_type": "code",
      "execution_count": 19,
      "metadata": {
        "id": "LjqPEmdguqZ5"
      },
      "outputs": [],
      "source": [
        "import pandas as pd\n",
        "import matplotlib.pyplot as plt\n",
        "import tushare as ts\n",
        "import os\n",
        "from datetime import datetime\n",
        "import time\n",
        "\n",
        "# Initialize the Tushare API\n",
        "api_key_path = '/content/drive/My Drive/tushare_data/api_key.txt'\n",
        "with open(api_key_path, 'r') as file:\n",
        "    api_key = file.readline().strip()\n",
        "pro = ts.pro_api(api_key)\n",
        "\n",
        "drive_path = '/content/drive/My Drive/tushare_data/industrial_pe'\n",
        "if not os.path.exists(drive_path):\n",
        "    os.makedirs(drive_path)"
      ]
    },
    {
      "cell_type": "code",
      "source": [
        "def get_sw_daily_data(trade_date):\n",
        "    df = pro.sw_daily(trade_date=trade_date, fields='ts_code,trade_date,name,open,close,vol,pe,pb')\n",
        "    return df\n",
        "\n",
        "def store_data(df, file_name):\n",
        "    file_path = os.path.join(drive_path, file_name)\n",
        "    if os.path.exists(file_path):\n",
        "        existing_df = pd.read_csv(file_path)\n",
        "        df = pd.concat([existing_df, df]).drop_duplicates(subset=['ts_code', 'trade_date'])\n",
        "    df.to_csv(file_path, index=False)\n",
        "    return file_path\n",
        "\n",
        "def load_data(file_name):\n",
        "    file_path = os.path.join(drive_path, file_name)\n",
        "    if os.path.exists(file_path):\n",
        "        df = pd.read_csv(file_path)\n",
        "    else:\n",
        "        df = pd.DataFrame()\n",
        "    return df\n",
        "\n",
        "# 获取当天数据\n",
        "trade_date = datetime.now().strftime('%Y%m%d')\n",
        "df = get_sw_daily_data(trade_date)\n",
        "\n",
        "# 存储数据到Google Drive\n",
        "file_name = 'sw_daily_data.csv'\n",
        "file_path = store_data(df, file_name)\n",
        "print(f'Data stored at {file_path}')"
      ],
      "metadata": {
        "colab": {
          "base_uri": "https://localhost:8080/"
        },
        "id": "QmDWGMM5u1s1",
        "outputId": "73b94cc3-141b-44cd-8324-7071afb24faa"
      },
      "execution_count": 20,
      "outputs": [
        {
          "output_type": "stream",
          "name": "stdout",
          "text": [
            "Data stored at /content/drive/My Drive/tushare_data/industrial_pe/sw_daily_data.csv\n"
          ]
        }
      ]
    },
    {
      "cell_type": "code",
      "source": [
        "def filter_top_volume_industries(df, top_percent=0.06):\n",
        "    df = df.sort_values(by='vol', ascending=False)\n",
        "    top_n = int(len(df) * top_percent)\n",
        "    top_industries = df.head(top_n)\n",
        "    return top_industries\n",
        "\n",
        "# 筛选交易量在前6%的行业\n",
        "top_industries = filter_top_volume_industries(df)"
      ],
      "metadata": {
        "id": "xSofwXG60l5R"
      },
      "execution_count": 21,
      "outputs": []
    },
    {
      "cell_type": "code",
      "source": [
        "def get_historical_data(ts_code):\n",
        "    historical_file = os.path.join(drive_path, f'{ts_code}_historical.csv')\n",
        "    if os.path.exists(historical_file):\n",
        "        historical_df = pd.read_csv(historical_file)\n",
        "    else:\n",
        "        historical_df = pd.DataFrame()\n",
        "\n",
        "    end_date = datetime.now().strftime('%Y%m%d')\n",
        "    start_date = (datetime.now() - pd.DateOffset(years=5)).strftime('%Y%m%d')\n",
        "    df_list = []\n",
        "\n",
        "    for year in range(10):\n",
        "        for month in range(1, 13):\n",
        "            date = f\"{int(start_date[:4]) + year}{month:02}01\"\n",
        "            if date not in historical_df.get('trade_date', pd.Series()).values:\n",
        "                df = pro.sw_daily(ts_code=ts_code, trade_date=date, fields='ts_code,trade_date,pe')\n",
        "                if not df.empty:\n",
        "                    df_list.append(df)\n",
        "\n",
        "    if df_list:\n",
        "        new_historical_df = pd.concat(df_list)\n",
        "        historical_df = pd.concat([historical_df, new_historical_df]).drop_duplicates(subset=['ts_code', 'trade_date'])\n",
        "        historical_df.to_csv(historical_file, index=False)\n",
        "\n",
        "    return historical_df\n",
        "\n",
        "# 获取所有交易量前6%的行业的历史数据并存储\n",
        "historical_data = {}\n",
        "for ts_code in top_industries['ts_code'].unique():\n",
        "    historical_data[ts_code] = get_historical_data(ts_code)"
      ],
      "metadata": {
        "id": "aRH_GolqwGaC"
      },
      "execution_count": null,
      "outputs": []
    },
    {
      "cell_type": "code",
      "source": [
        "from tabulate import tabulate\n",
        "\n",
        "def analyze_data(current_df, historical_data):\n",
        "    analysis_df = current_df[['ts_code', 'name', 'pe']].copy()\n",
        "    analysis_df['historical_avg_pe'] = analysis_df['ts_code'].apply(lambda x: historical_data[x]['pe'].mean() if x in historical_data else None)\n",
        "    analysis_df = analysis_df.dropna(subset=['historical_avg_pe'])\n",
        "\n",
        "    analysis_df['pe_ratio'] = (analysis_df['pe'] / analysis_df['historical_avg_pe']) - 1\n",
        "\n",
        "    analysis_df = analysis_df.sort_values(by='pe_ratio')\n",
        "    lowest_pe_df = analysis_df.head(5)\n",
        "\n",
        "    final_df = lowest_pe_df[['ts_code', 'name', 'pe', 'historical_avg_pe', 'pe_ratio']].copy()\n",
        "    final_df['pe_ratio'] = final_df['pe_ratio'] * 100\n",
        "    final_df.rename(columns={\n",
        "        'ts_code': '行业代码',\n",
        "        'name': '板块名称',\n",
        "        'pe': '当前PE值',\n",
        "        'historical_avg_pe': '历史平均PE值',\n",
        "        'pe_ratio': '当前PE低于历史PE百分比'\n",
        "    }, inplace=True)\n",
        "    final_df['时间'] = datetime.now().strftime('%Y-%m-%d')\n",
        "\n",
        "    return final_df\n",
        "\n",
        "result_df = analyze_data(top_industries, historical_data)\n",
        "\n",
        "print(\"相对于历史PE最低的5个主要行业:\")\n",
        "print(tabulate(result_df, headers='keys', tablefmt='grid', showindex=False))"
      ],
      "metadata": {
        "colab": {
          "base_uri": "https://localhost:8080/"
        },
        "id": "C5dCTaKewGcp",
        "outputId": "a75472b3-a692-4ed7-b590-1f31aec63094"
      },
      "execution_count": 37,
      "outputs": [
        {
          "output_type": "stream",
          "name": "stdout",
          "text": [
            "相对于历史PE最低的5个主要行业:\n",
            "+------------+--------------+------------+----------------+--------------------------+------------+\n",
            "| 行业代码   | 板块名称     |   当前PE值 |   历史平均PE值 |   当前PE低于历史PE百分比 | 时间       |\n",
            "+============+==============+============+================+==========================+============+\n",
            "| 801730.SI  | 电力设备     |      20.41 |        33.9479 |                 -39.8785 | 2024-07-29 |\n",
            "+------------+--------------+------------+----------------+--------------------------+------------+\n",
            "| 801005.SI  | 申万创业     |      26.51 |        41.3755 |                 -35.9283 | 2024-07-29 |\n",
            "+------------+--------------+------------+----------------+--------------------------+------------+\n",
            "| 801832.SI  | 中市净率指数 |      17.13 |        24.6766 |                 -30.5819 | 2024-07-29 |\n",
            "+------------+--------------+------------+----------------+--------------------------+------------+\n",
            "| 801260.SI  | 申万消费     |      18.28 |        25.3142 |                 -27.7876 | 2024-07-29 |\n",
            "+------------+--------------+------------+----------------+--------------------------+------------+\n",
            "| 801002.SI  | 申万中小     |      18.73 |        25.4795 |                 -26.4898 | 2024-07-29 |\n",
            "+------------+--------------+------------+----------------+--------------------------+------------+\n"
          ]
        }
      ]
    },
    {
      "cell_type": "code",
      "source": [],
      "metadata": {
        "id": "6JDowq3ewGe5"
      },
      "execution_count": null,
      "outputs": []
    },
    {
      "cell_type": "code",
      "source": [],
      "metadata": {
        "id": "XXmlxMzGwGhb"
      },
      "execution_count": null,
      "outputs": []
    },
    {
      "cell_type": "code",
      "source": [],
      "metadata": {
        "id": "2muta_ebwGj-"
      },
      "execution_count": null,
      "outputs": []
    },
    {
      "cell_type": "code",
      "source": [],
      "metadata": {
        "id": "Y88jUoFFwGmn"
      },
      "execution_count": null,
      "outputs": []
    },
    {
      "cell_type": "code",
      "source": [],
      "metadata": {
        "id": "S-70E2vpwGpI"
      },
      "execution_count": null,
      "outputs": []
    },
    {
      "cell_type": "code",
      "source": [],
      "metadata": {
        "id": "_WJX-VAYwGsj"
      },
      "execution_count": null,
      "outputs": []
    }
  ]
}